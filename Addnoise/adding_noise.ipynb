{
 "cells": [
  {
   "cell_type": "code",
   "execution_count": 2,
   "id": "691f95b9-2ab7-4f85-ba39-0185dff277d4",
   "metadata": {},
   "outputs": [],
   "source": [
    "from pydub import AudioSegment\n",
    "import random\n",
    "\n",
    "def add_noise(audio_file_path, noise_file_path):\n",
    "    # Load audio files\n",
    "    audio_file = AudioSegment.from_file(audio_file_path)\n",
    "    noise_file = AudioSegment.from_file(noise_file_path)\n",
    "\n",
    "    # Set the desired SNR (signal-to-noise ratio) level in decibels\n",
    "    SNR_dB = 10\n",
    "\n",
    "    # Calculate the power of the signal and noise\n",
    "    signal_power = audio_file.dBFS\n",
    "    noise_power = noise_file.dBFS\n",
    "\n",
    "    # Calculate the scaling factor for the noise\n",
    "    scaling_factor = 10 ** ((signal_power - SNR_dB - noise_power) / 20)\n",
    "\n",
    "    # Apply the noise to the audio file\n",
    "    augmented_audio = audio_file.overlay(noise_file - random.uniform(0.0, 1.0) * 0.05 * noise_file.dBFS, position=0)\n",
    "    \n",
    "    return augmented_audio\n"
   ]
  },
  {
   "cell_type": "code",
   "execution_count": 5,
   "id": "4219817b-3927-4386-85dc-dcdb7f5099c9",
   "metadata": {},
   "outputs": [
    {
     "data": {
      "text/plain": [
       "<_io.BufferedRandom name='augmented_audio.wav'>"
      ]
     },
     "execution_count": 5,
     "metadata": {},
     "output_type": "execute_result"
    }
   ],
   "source": [
    "augmented_audio = add_noise(\"/dataa/Dataset/ASVspoof/LA/ASVspoof2019_LA_eval/flac/LA_E_5794390.flac\",\"Pink.wav\")\n",
    "# Export the augmented audio file\n",
    "augmented_audio.export('augmented_audio.wav', format='wav')"
   ]
  },
  {
   "cell_type": "code",
   "execution_count": null,
   "id": "7c3c442c-dae8-480d-9156-c128001ec980",
   "metadata": {},
   "outputs": [],
   "source": []
  }
 ],
 "metadata": {
  "kernelspec": {
   "display_name": "Python 3 (ipykernel)",
   "language": "python",
   "name": "python3"
  },
  "language_info": {
   "codemirror_mode": {
    "name": "ipython",
    "version": 3
   },
   "file_extension": ".py",
   "mimetype": "text/x-python",
   "name": "python",
   "nbconvert_exporter": "python",
   "pygments_lexer": "ipython3",
   "version": "3.9.12"
  }
 },
 "nbformat": 4,
 "nbformat_minor": 5
}
